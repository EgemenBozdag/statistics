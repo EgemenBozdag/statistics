{
  "nbformat": 4,
  "nbformat_minor": 0,
  "metadata": {
    "colab": {
      "name": "Datajarlabs-Statistics2.ipynb",
      "provenance": []
    },
    "kernelspec": {
      "name": "python3",
      "display_name": "Python 3"
    }
  },
  "cells": [
    {
      "cell_type": "markdown",
      "metadata": {
        "id": "awOBFGeGzfQt",
        "colab_type": "text"
      },
      "source": [
        "A şirketinin sattığı bilgisayarın bazılarının bozuk olduğu tespit edilmiştir. Bilgisyar üreten 3 şirket (A, B ve C) olduğunu varsayımı altında, bu şirketlerin bilgisayar üretim miktarı ve bozuk üretim olasılıkları şu şekildedir:\n",
        "\n",
        "Toplam Üretim Yüzdesi P(A)=0.40 P(B)=0.40 P(C)=0.20\n",
        "\n",
        "Hatalı Üretim Olasılığı\n",
        "\n",
        "P(D|A)=0.015 P(D|B)=0.020 P(D|C)=0.010\n",
        "\n",
        "Rastgele seçilen bir bozuk bir bilgisayarın B şirketi tarafından üretilme olasılığı nedir?"
      ]
    },
    {
      "cell_type": "code",
      "metadata": {
        "id": "ypMa0OcrzeW5",
        "colab_type": "code",
        "colab": {
          "base_uri": "https://localhost:8080/",
          "height": 34
        },
        "outputId": "66e8698e-a302-4e09-969b-8c3ce4561b3e"
      },
      "source": [
        "prob = (0.4*0.02) / (0.4*0.015+0.4*0.02+0.2*0.01)*100\n",
        "print ('The probability is {}%'.format(prob))"
      ],
      "execution_count": 6,
      "outputs": [
        {
          "output_type": "stream",
          "text": [
            "The probability is 50.0%\n"
          ],
          "name": "stdout"
        }
      ]
    },
    {
      "cell_type": "code",
      "metadata": {
        "id": "8IUAV7Uizssq",
        "colab_type": "code",
        "colab": {}
      },
      "source": [
        ""
      ],
      "execution_count": 0,
      "outputs": []
    }
  ]
}